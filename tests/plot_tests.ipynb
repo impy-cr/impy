{
 "cells": [
  {
   "cell_type": "code",
   "execution_count": null,
   "metadata": {},
   "outputs": [],
   "source": [
    "import numpy as np\n",
    "import matplotlib.pyplot as plt\n",
    "import pickle\n",
    "# from misc_test_func import *"
   ]
  },
  {
   "cell_type": "markdown",
   "metadata": {},
   "source": [
    "Test center of mass pseudo-rapidity\n",
    "----------------------------------"
   ]
  },
  {
   "cell_type": "code",
   "execution_count": null,
   "metadata": {},
   "outputs": [],
   "source": [
    "xgrid, yval_d, logs = pickle.load(open('test_all_cms.pkl', 'rb'))\n",
    "f, axes = plt.subplots(1,1,figsize=(8,6))\n",
    "\n",
    "x_centers = 0.5*(xgrid[1:] + xgrid[:-1])\n",
    "# [axes.plot(x_centers,yval_d[k],axes=axes, label=k) for k in yval_d \n",
    "#  if k in ['URQMD34','DPMJETIII171','SIBYLL23C','EPOSLHC', 'PHOJET171']]\n",
    "[axes.plot(x_centers,yval_d[k],axes=axes, label=k) for k in yval_d ]\n",
    "plt.legend(ncol=3)\n",
    "plt.xlim(min(xgrid),max(xgrid))\n",
    "plt.ylim(0, 1.4*max([max(yval_d[k]) for k in yval_d]))"
   ]
  },
  {
   "cell_type": "code",
   "execution_count": null,
   "metadata": {},
   "outputs": [],
   "source": [
    "print(logs['DPMJETIII191'])"
   ]
  },
  {
   "cell_type": "code",
   "execution_count": null,
   "metadata": {},
   "outputs": [],
   "source": [
    "xgrid, yval_d_p, yval_d_pi, logs = pickle.load(open('test_all_lab.pkl', 'rb'))\n",
    "f, axes = plt.subplots(1,1,figsize=(8,6))\n",
    "x_centers = 0.5*(xgrid[1:] + xgrid[:-1])\n",
    "[axes.plot(x_centers,yval_d_p[k],axes=axes, label=k) for k in yval_d_p]\n",
    "plt.legend(ncol=3)\n",
    "plt.xlim(min(xgrid),max(xgrid))\n",
    "plt.ylim(0, 100)#1.4*max([max(yval_d_p[k]) for k in yval_d]))\n",
    "\n",
    "f, axes = plt.subplots(1,1,figsize=(8,6))\n",
    "x_centers = 0.5*(xgrid[1:] + xgrid[:-1])\n",
    "[axes.plot(x_centers,yval_d_pi[k],axes=axes, label=k) for k in yval_d_pi]\n",
    "plt.legend(ncol=3)\n",
    "plt.xlim(min(xgrid),max(xgrid))\n",
    "plt.ylim(0, 1.4*max([max(yval_d_pi[k]) for k in yval_d_pi]))"
   ]
  },
  {
   "cell_type": "code",
   "execution_count": null,
   "metadata": {},
   "outputs": [],
   "source": []
  }
 ],
 "metadata": {
  "kernelspec": {
   "display_name": "Python 3.8.13 ('venv': venv)",
   "language": "python",
   "name": "python3"
  },
  "language_info": {
   "codemirror_mode": {
    "name": "ipython",
    "version": 2
   },
   "file_extension": ".py",
   "mimetype": "text/x-python",
   "name": "python",
   "nbconvert_exporter": "python",
   "pygments_lexer": "ipython2",
   "version": "3.8.13"
  },
  "vscode": {
   "interpreter": {
    "hash": "0a508c08cd2086ba96582a458cfad941fad2afc105364c7aa1495a852be559b7"
   }
  }
 },
 "nbformat": 4,
 "nbformat_minor": 2
}

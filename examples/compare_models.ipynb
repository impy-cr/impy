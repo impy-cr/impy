{
 "cells": [
  {
   "cell_type": "markdown",
   "metadata": {},
   "source": [
    "# Example: Compare distributions for common particles in two models\n",
    "\n",
    "In this example, we generate the pseudorapidity and Feynman-x distributions for selected particles in two models and compare them visually.\n",
    "\n",
    "Requires extra packages: matplotlib, tqdm, boost-histogram, particle, joblib"
   ]
  },
  {
   "cell_type": "code",
   "execution_count": null,
   "metadata": {},
   "outputs": [],
   "source": [
    "import matplotlib.pyplot as plt\n",
    "import boost_histogram as bh\n",
    "from tqdm import tqdm\n",
    "from particle import literals as lp, Particle\n",
    "import joblib  # only joblib works reliably in notebooks\n",
    "import numpy as np\n",
    "\n",
    "from chromo.constants import GeV\n",
    "from chromo.kinematics import CenterOfMass\n",
    "import chromo.models as im"
   ]
  },
  {
   "cell_type": "code",
   "execution_count": null,
   "metadata": {},
   "outputs": [],
   "source": [
    "# We want to simulate pp interactions at 1 TeV center-of-mass\n",
    "\n",
    "# The event kinematics objects defines the collision and its frame.\n",
    "# Here we want pp collisions at 1 TeV center-of-mass energy.\n",
    "ekin = CenterOfMass(\n",
    "    100 * GeV,\n",
    "    \"proton\",\n",
    "    \"proton\"\n",
    ")\n",
    "\n",
    "# How many events to generate\n",
    "n_events = 10000"
   ]
  },
  {
   "cell_type": "code",
   "execution_count": null,
   "metadata": {},
   "outputs": [],
   "source": [
    "pid_axis = bh.axis.IntCategory([\n",
    "    x.pdgid for x in (lp.pi_0, lp.pi_plus, lp.pi_minus, lp.K_plus, lp.K_minus, lp.proton, lp.antiproton)\n",
    "])\n",
    "\n",
    "models = [\n",
    "    im.EposLHC,\n",
    "    im.Sibyll21,\n",
    "    im.Sibyll23d,\n",
    "    im.QGSJet01d,\n",
    "    im.QGSJetII04,\n",
    "    im.Pythia6,\n",
    "    im.Pythia8,\n",
    "]\n",
    "\n",
    "@joblib.delayed\n",
    "def run(Model):    \n",
    "    # Create mode instance here.\n",
    "    # This typically generates a banner for each model.\n",
    "    # Models can only be created once.\n",
    "\n",
    "    m = Model(ekin, seed=1)\n",
    "    m.set_stable(lp.pi_0.pdgid)\n",
    "\n",
    "    # Histogram for Feynman-x distributions\n",
    "    hx = bh.Histogram(pid_axis, bh.axis.Regular(30, -1, 1))\n",
    "\n",
    "    # Histogram for pseudorapidity distributions\n",
    "    heta = bh.Histogram(pid_axis, bh.axis.Regular(30, -7, 7))\n",
    "\n",
    "    for event in tqdm(m(n_events), total=n_events):\n",
    "        event = event.final_state() # select only final state particles\n",
    "        with np.errstate(divide=\"ignore\", invalid=\"ignore\"):\n",
    "            hx.fill(event.pid, event.xf)\n",
    "            heta.fill(event.pid, event.eta)\n",
    "\n",
    "    return m.label, hx, heta\n",
    "\n",
    "with joblib.Parallel(n_jobs=10, batch_size=1) as pool:\n",
    "    results = pool(run(m) for m in models)\n",
    "\n",
    "results = {label: rest for (label, *rest) in results}\n"
   ]
  },
  {
   "cell_type": "code",
   "execution_count": null,
   "metadata": {},
   "outputs": [],
   "source": [
    "fig, ax = plt.subplots(2, 4, figsize=(14, 7), sharex=True, sharey=True)\n",
    "\n",
    "# boost-histogram axes contain overflow bins to count everything else,\n",
    "# we use this here to show a histogram of all other particles\n",
    "labels = [f\"${Particle.from_pdgid(pid).latex_name}$\" for pid in pid_axis]\n",
    "labels += [\"other\"]\n",
    "\n",
    "for model, (hx, heta) in results.items():\n",
    "    a = hx.axes[1]\n",
    "    values = hx.values(True) # this returns the full histogram including overflow bins\n",
    "    values = values[:, 1:-1] # strip the overflow bins from the second axis\n",
    "    labels = [f\"${Particle.from_pdgid(pid).latex_name}$\" for pid in hx.axes[0]]\n",
    "    labels += [\"other\"]\n",
    "    for i, (label, axi) in enumerate(zip(labels, ax.flat)):\n",
    "        axi.stairs(values[i] / n_events / a.widths, a.edges, label=model)\n",
    "        axi.set_title(label)\n",
    "plt.semilogy()\n",
    "plt.ylim(1e-3, 1e3)\n",
    "fig.supxlabel(\"Feynman x\")\n",
    "ax[0, -1].legend();"
   ]
  },
  {
   "cell_type": "code",
   "execution_count": null,
   "metadata": {},
   "outputs": [],
   "source": [
    "fig, ax = plt.subplots(2, 4, figsize=(14, 7), sharex=True, sharey=True)\n",
    "\n",
    "for model, (hx, heta) in results.items():\n",
    "    a = heta.axes[1]\n",
    "    values = heta.values(True)\n",
    "    values = values[:, 1:-1]\n",
    "    for i, (label, axi) in enumerate(zip(labels, ax.flat)):\n",
    "        axi.stairs(values[i] / n_events / a.widths, a.edges, label=model)\n",
    "        axi.set_title(label)\n",
    "plt.semilogy()\n",
    "plt.ylim(1e-3, 1e1)\n",
    "fig.supxlabel(\"pseudorapidity\")\n",
    "ax[0, -1].legend();"
   ]
  },
  {
   "cell_type": "code",
   "execution_count": null,
   "metadata": {},
   "outputs": [],
   "source": []
  }
 ],
 "metadata": {
  "kernelspec": {
   "display_name": "Python 3",
   "language": "python",
   "name": "python3"
  },
  "language_info": {
   "codemirror_mode": {
    "name": "ipython",
    "version": 3
   },
   "file_extension": ".py",
   "mimetype": "text/x-python",
   "name": "python",
   "nbconvert_exporter": "python",
   "pygments_lexer": "ipython3",
   "version": "3.11.1"
  },
  "vscode": {
   "interpreter": {
    "hash": "5c7b89af1651d0b8571dde13640ecdccf7d5a6204171d6ab33e7c296e100e08a"
   }
  }
 },
 "nbformat": 4,
 "nbformat_minor": 4
}

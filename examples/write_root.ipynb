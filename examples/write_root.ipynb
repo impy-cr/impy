{
 "cells": [
  {
   "attachments": {},
   "cell_type": "markdown",
   "metadata": {},
   "source": [
    "# Write generated events as a ROOT file\n",
    "\n",
    "impy comes with writers that write the event record in different formats. Two popular formats are HepMC3 and ROOT. ROOT output is similar but not identical to the CRMC ROOT output. CERN's ROOT framework is not required to write ROOT files, only the comparably small uproot Python library.\n",
    "\n",
    "Note: that you can also use the command-line interface to generate events in a specific format, so running the code in this notebook is not really needed. You could use this notebook as a template, however, if you want to apply some complex filtering before saving the event."
   ]
  },
  {
   "cell_type": "code",
   "execution_count": 1,
   "metadata": {},
   "outputs": [],
   "source": [
    "import uproot\n",
    "from impy.models import Pythia8\n",
    "from impy.writer import Root\n",
    "from impy.kinematics import CenterOfMass\n",
    "from impy.constants import GeV\n",
    "import numpy as np\n",
    "from particle import literals as lp"
   ]
  },
  {
   "cell_type": "code",
   "execution_count": 2,
   "metadata": {},
   "outputs": [
    {
     "name": "stdout",
     "output_type": "stream",
     "text": [
      "\n",
      " *------------------------------------------------------------------------------------* \n",
      " |                                                                                    | \n",
      " |  *------------------------------------------------------------------------------*  | \n",
      " |  |                                                                              |  | \n",
      " |  |                                                                              |  | \n",
      " |  |   PPP   Y   Y  TTTTT  H   H  III    A      Welcome to the Lund Monte Carlo!  |  | \n",
      " |  |   P  P   Y Y     T    H   H   I    A A     This is PYTHIA version 8.307      |  | \n",
      " |  |   PPP     Y      T    HHHHH   I   AAAAA    Last date of change: 25 Feb 2022  |  | \n",
      " |  |   P       Y      T    H   H   I   A   A                                      |  | \n",
      " |  |   P       Y      T    H   H  III  A   A    Now is 15 Dec 2022 at 17:07:34    |  | \n",
      " |  |                                                                              |  | \n",
      " |  |   Program documentation and an archive of historic versions is found on:     |  | \n",
      " |  |                                                                              |  | \n",
      " |  |                               https://pythia.org/                            |  | \n",
      " |  |                                                                              |  | \n",
      " |  |   PYTHIA is authored by a collaboration consisting of:                       |  | \n",
      " |  |                                                                              |  | \n",
      " |  |   Christian Bierlich, Nishita Desai, Leif Gellersen, Ilkka Helenius, Philip  |  | \n",
      " |  |   Ilten, Leif Lönnblad, Stephen Mrenna, Stefan Prestel, Christian Preuss,    |  | \n",
      " |  |   Torbjörn Sjöstrand, Peter Skands, Marius Utheim and Rob Verheyen.          |  | \n",
      " |  |                                                                              |  | \n",
      " |  |   The complete list of authors, including contact information and            |  | \n",
      " |  |   affiliations, can be found on https://pythia.org/.                         |  | \n",
      " |  |   Problems or bugs should be reported on email at authors@pythia.org.        |  | \n",
      " |  |                                                                              |  | \n",
      " |  |   The main program reference is 'An Introduction to PYTHIA 8.2',             |  | \n",
      " |  |   T. Sjöstrand et al, Comput. Phys. Commun. 191 (2015) 159                   |  | \n",
      " |  |   [arXiv:1410.3012 [hep-ph]]                                                 |  | \n",
      " |  |                                                                              |  | \n",
      " |  |   The main physics reference is the 'PYTHIA 6.4 Physics and Manual',         |  | \n",
      " |  |   T. Sjöstrand, S. Mrenna and P. Skands, JHEP05 (2006) 026 [hep-ph/0603175]  |  | \n",
      " |  |                                                                              |  | \n",
      " |  |   PYTHIA is released under the GNU General Public Licence version 2 or later.|  | \n",
      " |  |   Please respect the MCnet Guidelines for Event Generator Authors and Users. |  | \n",
      " |  |                                                                              |  | \n",
      " |  |   Disclaimer: this program comes without any guarantees.                     |  | \n",
      " |  |   Beware of errors and use common sense when interpreting results.           |  | \n",
      " |  |                                                                              |  | \n",
      " |  |   Copyright (C) 2022 Torbjörn Sjöstrand                                      |  | \n",
      " |  |                                                                              |  | \n",
      " |  |                                                                              |  | \n",
      " |  *------------------------------------------------------------------------------*  | \n",
      " |                                                                                    | \n",
      " *------------------------------------------------------------------------------------* \n",
      "\n"
     ]
    }
   ],
   "source": [
    "kin = CenterOfMass(10 * GeV, \"proton\", \"proton\")\n",
    "model = Pythia8(kin, seed=2)"
   ]
  },
  {
   "cell_type": "code",
   "execution_count": 3,
   "metadata": {},
   "outputs": [],
   "source": [
    "nevents = 1000\n",
    "\n",
    "with Root(\"output.root\", model) as f:\n",
    "    for event in model(nevents):\n",
    "        event = event.without_parton_shower()\n",
    "        event = event[2:]  # cut away beam particles\n",
    "        f.write(event)"
   ]
  },
  {
   "attachments": {},
   "cell_type": "markdown",
   "metadata": {},
   "source": [
    "Now we are doing generating and saving. The code below demonstrates how to read the file back with uproot."
   ]
  },
  {
   "cell_type": "code",
   "execution_count": 8,
   "metadata": {},
   "outputs": [
    {
     "name": "stdout",
     "output_type": "stream",
     "text": [
      "all particles\n",
      "  pseudorapidity [0.926, 3.44, 3.42, 1.28, 0.297, 1.49]\n",
      "  pdgid [321, 3214, 3122, 111, 22, 22]\n",
      "long-lived particles\n",
      "  pseudorapidity [0.926, 3.42, 0.297, 1.49]\n",
      "  pdgid [321, 3122, 22, 22]\n",
      "  photons from pi0 decay\n",
      "  pseudorapidity [0.297, 1.49]\n"
     ]
    }
   ],
   "source": [
    "import numpy as np\n",
    "import uproot\n",
    "from particle import literals as lp\n",
    "import numba as nb\n",
    "\n",
    "\n",
    "def pt_eta(px, py, pz):\n",
    "    pt = np.sqrt(px ** 2 + py ** 2)\n",
    "    eta = np.arcsinh(pz / pt)\n",
    "    return pt, eta\n",
    "\n",
    "photon_pid = int(lp.photon.pdgid)\n",
    "pi0_pid = int(lp.pi_0.pdgid)\n",
    "\n",
    "\n",
    "@nb.njit\n",
    "def select_photons_from_pi0_decay(pid, par):\n",
    "    result = np.zeros(len(pid), dtype=\"bool\")\n",
    "    for i, pidi in enumerate(pid):\n",
    "        if pidi != photon_pid:\n",
    "            continue\n",
    "        if par[i] < 0:\n",
    "            continue\n",
    "        parent_pid = pid[par[i]]\n",
    "        if parent_pid != pi0_pid:\n",
    "            continue\n",
    "        result[i] = True\n",
    "    return result\n",
    "\n",
    "with uproot.open(\"output.root\") as f:\n",
    "    tree = f[\"event\"]\n",
    "    branches = [\"px\", \"py\", \"pz\", \"m\", \"pdgid\", \"status\", \"parent\"]\n",
    "    # loop over chunks in ROOT tree\n",
    "    for chunk in tree.iterate(branches):\n",
    "        # loop over individual events\n",
    "        for px, py, pz, m, pid, sta, par in zip(*(chunk[k] for k in branches)):\n",
    "            pt, eta = pt_eta(px, py, pz)\n",
    "\n",
    "            print(\"all particles\")\n",
    "            print(\"  pseudorapidity\", eta)\n",
    "            print(\"  pdgid\", pid)\n",
    "\n",
    "            # select only long-lived particles\n",
    "            mask = sta == 1\n",
    "            print(\"long-lived particles\")\n",
    "            print(\"  pseudorapidity\", eta[mask])\n",
    "            print(\"  pdgid\", pid[mask])\n",
    "\n",
    "            # select only photons from pi0 decays\n",
    "            mask = select_photons_from_pi0_decay(pid, par)\n",
    "            print(\"  photons from pi0 decay\")\n",
    "            print(\"  pseudorapidity\", eta[mask])\n",
    "\n",
    "            break  # remove to not stop after first event\n"
   ]
  }
 ],
 "metadata": {
  "kernelspec": {
   "display_name": "Python 3.10.7 ('venv': venv)",
   "language": "python",
   "name": "python3"
  },
  "language_info": {
   "codemirror_mode": {
    "name": "ipython",
    "version": 3
   },
   "file_extension": ".py",
   "mimetype": "text/x-python",
   "name": "python",
   "nbconvert_exporter": "python",
   "pygments_lexer": "ipython3",
   "version": "3.10.8"
  },
  "orig_nbformat": 4,
  "vscode": {
   "interpreter": {
    "hash": "0a508c08cd2086ba96582a458cfad941fad2afc105364c7aa1495a852be559b7"
   }
  }
 },
 "nbformat": 4,
 "nbformat_minor": 2
}

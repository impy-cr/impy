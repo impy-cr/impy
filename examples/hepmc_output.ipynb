{
 "cells": [
  {
   "cell_type": "code",
   "execution_count": 1,
   "metadata": {},
   "outputs": [],
   "source": [
    "import pyhepmc\n",
    "import impy.models as im\n",
    "from impy.kinematics import EventKinematics\n",
    "from impy.constants import GeV"
   ]
  },
  {
   "cell_type": "code",
   "execution_count": 2,
   "metadata": {},
   "outputs": [
    {
     "name": "stdout",
     "output_type": "stream",
     "text": [
      "1                                                                              \n",
      " ******************************************************************************\n",
      " ******************************************************************************\n",
      " **                                                                          **\n",
      " **                                                                          **\n",
      " **              *......*                  Welcome to the Lund Monte Carlo!  **\n",
      " **         *:::!!:::::::::::*                                               **\n",
      " **      *::::::!!::::::::::::::*          PPP  Y   Y TTTTT H   H III   A    **\n",
      " **    *::::::::!!::::::::::::::::*        P  P  Y Y    T   H   H  I   A A   **\n",
      " **   *:::::::::!!:::::::::::::::::*       PPP    Y     T   HHHHH  I  AAAAA  **\n",
      " **   *:::::::::!!:::::::::::::::::*       P      Y     T   H   H  I  A   A  **\n",
      " **    *::::::::!!::::::::::::::::*!       P      Y     T   H   H III A   A  **\n",
      " **      *::::::!!::::::::::::::* !!                                         **\n",
      " **      !! *:::!!:::::::::::*    !!       This is PYTHIA version 6.428      **\n",
      " **      !!     !* -><- *         !!       Last date of change:  5 Sep 2013  **\n",
      " **      !!     !!                !!                                         **\n",
      " **      !!     !!                !!       Now is  0 Jan 2000 at  0:00:00    **\n",
      " **      !!                       !!                                         **\n",
      " **      !!        lh             !!       Disclaimer: this program comes    **\n",
      " **      !!                       !!       without any guarantees. Beware    **\n",
      " **      !!                 hh    !!       of errors and use common sense    **\n",
      " **      !!    ll                 !!       when interpreting results.        **\n",
      " **      !!                       !!                                         **\n",
      " **      !!                                Copyright T. Sjostrand (2011)     **\n",
      " **                                                                          **\n",
      " ** An archive of program versions and documentation is found on the web:    **\n",
      " ** http://www.thep.lu.se/~torbjorn/Pythia.html                              **\n",
      " **                                                                          **\n",
      " ** When you cite this program, the official reference is to the 6.4 manual: **\n",
      " ** T. Sjostrand, S. Mrenna and P. Skands, JHEP05 (2006) 026                 **\n",
      " ** (LU TP 06-13, FERMILAB-PUB-06-052-CD-T) [hep-ph/0603175].                **\n",
      " **                                                                          **\n",
      " ** Also remember that the program, to a large extent, represents original   **\n",
      " ** physics research. Other publications of special relevance to your        **\n",
      " ** studies may therefore deserve separate mention.                          **\n",
      " **                                                                          **\n",
      " ** Main author: Torbjorn Sjostrand; Department of Theoretical Physics,      **\n",
      " **   Lund University, Solvegatan 14A, S-223 62 Lund, Sweden;                **\n",
      " **   phone: + 46 - 46 - 222 48 16; e-mail: torbjorn@thep.lu.se              **\n",
      " ** Author: Stephen Mrenna; Computing Division, GDS Group,                   **\n",
      " **   Fermi National Accelerator Laboratory, MS 234, Batavia, IL 60510, USA; **\n",
      " **   phone: + 1 - 630 - 840 - 2556; e-mail: mrenna@fnal.gov                 **\n",
      " ** Author: Peter Skands; CERN/PH-TH, CH-1211 Geneva, Switzerland            **\n",
      " **   phone: + 41 - 22 - 767 24 47; e-mail: peter.skands@cern.ch             **\n",
      " **                                                                          **\n",
      " **                                                                          **\n",
      " ******************************************************************************\n",
      " ******************************************************************************\n",
      "1****************** PYINIT: initialization of PYTHIA routines *****************\n",
      "\n",
      " ==============================================================================\n",
      " I                                                                            I\n",
      " I             PYTHIA will be initialized for a p+ on p+ collider             I\n",
      " I                  at    200.000 GeV center-of-mass energy                   I\n",
      " I                                                                            I\n",
      " ==============================================================================\n",
      "\n",
      " ******** PYMAXI: summary of differential cross-section maximum search ********\n",
      "\n",
      "           ==========================================================\n",
      "           I                                      I                 I\n",
      "           I  ISUB  Subprocess name               I  Maximum value  I\n",
      "           I                                      I                 I\n",
      "           ==========================================================\n",
      "           I                                      I                 I\n",
      "           I   95   Low-pT scattering             I    2.7637D+01   I\n",
      "           I   96   Semihard QCD 2 -> 2           I    3.5069D+03   I\n",
      "           I                                      I                 I\n",
      "           ==========================================================\n",
      "\n",
      " ****** PYMULT: initialization of multiple interactions for MSTP(82) = 4 ******\n",
      "        pT0 = 1.15 GeV gives sigma(parton-parton) = 1.49D+02 mb: accepted\n",
      "\n",
      " ****** PYMIGN: initialization of multiple interactions for MSTP(82) = 4 ******\n",
      "        pT0 = 1.15 GeV gives sigma(parton-parton) = 1.01D+02 mb: accepted\n",
      "\n",
      " ********************** PYINIT: initialization completed **********************\n"
     ]
    }
   ],
   "source": [
    "ekin = EventKinematics(\n",
    "    ecm=200 * GeV, p1pdg=2212, p2pdg=2212\n",
    ")\n",
    "\n",
    "model = im.Pythia6(ekin)"
   ]
  },
  {
   "cell_type": "code",
   "execution_count": 11,
   "metadata": {},
   "outputs": [],
   "source": [
    "for event in model(1):\n",
    "    break"
   ]
  },
  {
   "cell_type": "code",
   "execution_count": 13,
   "metadata": {},
   "outputs": [
    {
     "data": {
      "text/plain": [
       "41"
      ]
     },
     "execution_count": 13,
     "metadata": {},
     "output_type": "execute_result"
    }
   ],
   "source": [
    "event.npart"
   ]
  },
  {
   "cell_type": "code",
   "execution_count": 12,
   "metadata": {},
   "outputs": [
    {
     "name": "stdout",
     "output_type": "stream",
     "text": [
      "[0 0]\n",
      "[0 0]\n",
      "[0 0]\n",
      "[0 0]\n",
      "[0 0]\n",
      "[0 0]\n",
      "[0 0]\n",
      "[0 0]\n",
      "[13 13]\n",
      "[13 13]\n",
      "[20 20]\n",
      "[20 20]\n",
      "[14 19]\n",
      "[26 28]\n",
      "[29 30]\n",
      "[0 0]\n",
      "[31 32]\n",
      "[33 34]\n",
      "[0 0]\n",
      "[21 25]\n",
      "[35 36]\n",
      "[37 38]\n",
      "[0 0]\n",
      "[39 40]\n",
      "[0 0]\n",
      "[0 0]\n",
      "[0 0]\n",
      "[0 0]\n",
      "[0 0]\n",
      "[0 0]\n",
      "[41 41]\n",
      "[0 0]\n",
      "[0 0]\n",
      "[0 0]\n",
      "[0 0]\n",
      "[0 0]\n",
      "[0 0]\n",
      "[0 0]\n",
      "[0 0]\n",
      "[0 0]\n",
      "[0 0]\n",
      "[74 76]\n",
      "[0 0]\n",
      "[77 78]\n",
      "[79 80]\n",
      "[0 0]\n",
      "[81 82]\n",
      "[83 84]\n",
      "[85 86]\n",
      "[87 88]\n",
      "[89 90]\n",
      "[91 92]\n",
      "[93 94]\n",
      "[95 96]\n",
      "[0 0]\n",
      "[0 0]\n",
      "[0 0]\n",
      "[0 0]\n",
      "[0 0]\n",
      "[0 0]\n",
      "[0 0]\n",
      "[0 0]\n",
      "[97 99]\n",
      "[0 0]\n",
      "[0 0]\n",
      "[0 0]\n",
      "[0 0]\n",
      "[0 0]\n",
      "[0 0]\n",
      "[0 0]\n",
      "[0 0]\n",
      "[0 0]\n",
      "[0 0]\n",
      "[0 0]\n",
      "[0 0]\n",
      "[0 0]\n",
      "[0 0]\n",
      "[0 0]\n",
      "[0 0]\n",
      "[0 0]\n",
      "[100 100]\n",
      "[0 0]\n",
      "[0 0]\n",
      "[0 0]\n",
      "[0 0]\n",
      "[0 0]\n",
      "[0 0]\n",
      "[0 0]\n",
      "[101 101]\n",
      "[0 0]\n",
      "[0 0]\n",
      "[0 0]\n",
      "[0 0]\n",
      "[0 0]\n",
      "[0 0]\n",
      "[0 0]\n",
      "[0 0]\n",
      "[0 0]\n",
      "[0 0]\n",
      "[0 0]\n"
     ]
    }
   ],
   "source": [
    "for ch in event.children.T[:100]:\n",
    "    print(ch)"
   ]
  },
  {
   "cell_type": "code",
   "execution_count": null,
   "metadata": {},
   "outputs": [],
   "source": []
  }
 ],
 "metadata": {
  "kernelspec": {
   "display_name": "Python 3.8.13 ('venv': venv)",
   "language": "python",
   "name": "python3"
  },
  "language_info": {
   "codemirror_mode": {
    "name": "ipython",
    "version": 3
   },
   "file_extension": ".py",
   "mimetype": "text/x-python",
   "name": "python",
   "nbconvert_exporter": "python",
   "pygments_lexer": "ipython3",
   "version": "3.8.13"
  },
  "orig_nbformat": 4,
  "vscode": {
   "interpreter": {
    "hash": "0a508c08cd2086ba96582a458cfad941fad2afc105364c7aa1495a852be559b7"
   }
  }
 },
 "nbformat": 4,
 "nbformat_minor": 2
}

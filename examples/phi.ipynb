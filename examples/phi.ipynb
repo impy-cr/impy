{
 "cells": [
  {
   "attachments": {},
   "cell_type": "markdown",
   "metadata": {},
   "source": [
    "# Generation of $\\phi(1020)$ particles\n",
    "\n",
    "In this example, we generate min-bias events and select $\\phi(1020)$ particles. We do this directly in memory, so that only the particles of interest are kept and stored to disk (as a ROOT Tree).\n",
    "\n",
    "We use three generators and compute the pseudorapidity and transverse momentum in MeV for each particle, and whether it is prompt (has no long-lived ancestors). The generators are run in parallel."
   ]
  },
  {
   "cell_type": "code",
   "execution_count": 1,
   "metadata": {},
   "outputs": [],
   "source": [
    "from impy import models as im\n",
    "from impy.util import name\n",
    "from impy.kinematics import CenterOfMass\n",
    "from impy.constants import MeV, GeV, TeV, long_lived\n",
    "from tqdm import tqdm\n",
    "import joblib\n",
    "import numpy as np\n",
    "import numba as nb\n",
    "from particle import literals as lp, Particle\n",
    "import uproot"
   ]
  },
  {
   "cell_type": "code",
   "execution_count": 2,
   "metadata": {},
   "outputs": [],
   "source": [
    "@nb.vectorize\n",
    "def is_long_lived(pid):\n",
    "    \"\"\"\n",
    "    Return true if PDGID is a long-lived particle.\n",
    "\n",
    "    Parameters\n",
    "    ----------\n",
    "    pid: int or array-like\n",
    "        PDGID of particle.\n",
    "\n",
    "    Returns\n",
    "    -------\n",
    "    bool or array of bool\n",
    "\n",
    "    Notes\n",
    "    -----\n",
    "    This function can be used in numba-jitted functions and in normal Python code.\n",
    "    When used from Python, it is vectorized. Inside a numba-jitted function, it\n",
    "    accepts a single pid.\n",
    "    \"\"\"\n",
    "    return abs(pid) in long_lived\n",
    "\n",
    "\n",
    "@nb.njit\n",
    "def is_prompt(idx, pid, imot):\n",
    "    \"\"\"\n",
    "    Return true for prompt particles.\n",
    "\n",
    "    Parameters\n",
    "    ----------\n",
    "    idx : int\n",
    "        Index of current particle.\n",
    "    pid : array\n",
    "        Array containing the PDGID of particles.\n",
    "    imot : array\n",
    "        Array containing the index of the parent particles or -1\n",
    "        if there is no parent.\n",
    "\n",
    "    Returns\n",
    "    -------\n",
    "    bool\n",
    "    \"\"\"\n",
    "    if len(pid) != len(imot):\n",
    "        raise ValueError(\"pid and imot do not have same length\")\n",
    "\n",
    "    while idx != -1:\n",
    "        idx = imot[idx]\n",
    "        if idx == -1:\n",
    "            return True\n",
    "        if idx >= len(pid):\n",
    "            raise IndexError(\"idx out of bounds\")\n",
    "        if is_long_lived(pid[idx]):\n",
    "            return False\n",
    "\n",
    "    return True"
   ]
  },
  {
   "cell_type": "code",
   "execution_count": 3,
   "metadata": {},
   "outputs": [
    {
     "name": "stdout",
     "output_type": "stream",
     "text": [
      "###################################################################\n",
      "#        EPOS LHC      K. WERNER, T. PIEROG                       #\n",
      "#                      Contact: tanguy.pierog@kit.edu             #\n",
      "###################################################################\n",
      "#        WARNING: This is a special retuned version !!!           #\n",
      "#     Do not publish results without contacting the authors.      #\n",
      "###################################################################\n",
      "read from /Users/hdembinski/Extern/impy/src/impy/iamdata/epos/epos.iniev ...\n",
      "read from /Users/hdembinski/Extern/impy/src/impy/iamdata/epos/epos.initl ...\n",
      " ====================================================\n",
      " |                                                  |\n",
      " |                 S I B Y L L  2.3d                |\n",
      " |                                                  |\n",
      " |         HADRONIC INTERACTION MONTE CARLO         |\n",
      " |                        BY                        |\n",
      " |            Eun-Joo AHN, Felix RIEHN              |\n",
      " |      R. ENGEL, A. FEDYNITCH, R.S. FLETCHER,      |\n",
      " |       T.K. GAISSER, P. LIPARI, T. STANEV         |\n",
      " |                                                  |\n",
      " | Publication to be cited when using this program: |\n",
      " | Eun-Joo AHN et al., Phys.Rev. D80 (2009) 094003  |\n",
      " | F. RIEHN et al., hep-ph: 1912.03300              |\n",
      " | last modifications: F. Riehn (05/20/2020)        |\n",
      " ====================================================\n",
      "\n",
      "read from /Users/hdembinski/Extern/impy/src/impy/iamdata/epos/epos.inirj.lhc ...\n",
      "read from /Users/hdembinski/Extern/impy/src/impy/iamdata/epos/epos.inics.lhc ...\n",
      " Compute Cross-section (can take a while...)\n",
      "\n",
      " *------------------------------------------------------------------------------------* \n",
      " |                                                                                    | \n",
      " |  *------------------------------------------------------------------------------*  | \n",
      " |  |                                                                              |  | \n",
      " |  |                                                                              |  | \n",
      " |  |   PPP   Y   Y  TTTTT  H   H  III    A      Welcome to the Lund Monte Carlo!  |  | \n",
      " |  |   P  P   Y Y     T    H   H   I    A A     This is PYTHIA version 8.307      |  | \n",
      " |  |   PPP     Y      T    HHHHH   I   AAAAA    Last date of change: 25 Feb 2022  |  | \n",
      " |  |   P       Y      T    H   H   I   A   A                                      |  | \n",
      " |  |   P       Y      T    H   H  III  A   A    Now is 14 Dec 2022 at 10:03:17    |  | \n",
      " |  |                                                                              |  | \n",
      " |  |   Program documentation and an archive of historic versions is found on:     |  | \n",
      " |  |                                                                              |  | \n",
      " |  |                               https://pythia.org/                            |  | \n",
      " |  |                                                                              |  | \n",
      " |  |   PYTHIA is authored by a collaboration consisting of:                       |  | \n",
      " |  |                                                                              |  | \n",
      " |  |   Christian Bierlich, Nishita Desai, Leif Gellersen, Ilkka Helenius, Philip  |  | \n",
      " |  |   Ilten, Leif Lönnblad, Stephen Mrenna, Stefan Prestel, Christian Preuss,    |  | \n",
      " |  |   Torbjörn Sjöstrand, Peter Skands, Marius Utheim and Rob Verheyen.          |  | \n",
      " |  |                                                                              |  | \n",
      " |  |   The complete list of authors, including contact information and            |  | \n",
      " |  |   affiliations, can be found on https://pythia.org/.                         |  | \n",
      " |  |   Problems or bugs should be reported on email at authors@pythia.org.        |  | \n",
      " |  |                                                                              |  | \n",
      " |  |   The main program reference is 'An Introduction to PYTHIA 8.2',             |  | \n",
      " |  |   T. Sjöstrand et al, Comput. Phys. Commun. 191 (2015) 159                   |  | \n",
      " |  |   [arXiv:1410.3012 [hep-ph]]                                                 |  | \n",
      " |  |                                                                              |  | \n",
      " |  |   The main physics reference is the 'PYTHIA 6.4 Physics and Manual',         |  | \n",
      " |  |   T. Sjöstrand, S. Mrenna and P. Skands, JHEP05 (2006) 026 [hep-ph/0603175]  |  | \n",
      " |  |                                                                              |  | \n",
      " |  |   PYTHIA is released under the GNU General Public Licence version 2 or later.|  | \n",
      " |  |   Please respect the MCnet Guidelines for Event Generator Authors and Users. |  | \n",
      " |  |                                                                              |  | \n",
      " |  |   Disclaimer: this program comes without any guarantees.                     |  | \n",
      " |  |   Beware of errors and use common sense when interpreting results.           |  | \n",
      " |  |                                                                              |  | \n",
      " |  |   Copyright (C) 2022 Torbjörn Sjöstrand                                      |  | \n",
      " |  |                                                                              |  | \n",
      " |  |                                                                              |  | \n",
      " |  *------------------------------------------------------------------------------*  | \n",
      " |                                                                                    | \n",
      " *------------------------------------------------------------------------------------* \n",
      "\n",
      "seedj:         1     0.2000000000000000D+01\n",
      " EPOS used with FUSION option\n"
     ]
    },
    {
     "name": "stderr",
     "output_type": "stream",
     "text": [
      "Sibyll23d:   0%|          | 0/1000000.0 [00:00<?, ?it/s]"
     ]
    },
    {
     "name": "stdout",
     "output_type": "stream",
     "text": [
      " SIG_AIR_INI: initializing target: (i,A)           1           0 air..\n",
      " SIG_AIR_INI: initializing target: (i,A)           2          14 nit..\n",
      " SIG_AIR_INI: initializing target: (i,A)           3          16 oxy..\n"
     ]
    },
    {
     "name": "stderr",
     "output_type": "stream",
     "text": [
      "Sibyll23d: 1635287it [09:08, 2981.61it/s] [09:08<10:22:36, 26.31it/s]] \n",
      "Pythia8:  21%|██        | 211402/1000000.0 [15:12<58:25, 224.99it/s]  "
     ]
    },
    {
     "name": "stdout",
     "output_type": "stream",
     "text": [
      " gb0.le.0.  si,pt2:   234.86926269531250        222.98051660262280     \n"
     ]
    },
    {
     "name": "stderr",
     "output_type": "stream",
     "text": [
      "Pythia8:  28%|██▊       | 283575/1000000.0 [20:21<48:42, 245.12it/s]  "
     ]
    }
   ],
   "source": [
    "Models = [\n",
    "    im.EposLHC,\n",
    "    im.Sibyll23d,\n",
    "    im.Pythia8\n",
    "]\n",
    "\n",
    "@joblib.delayed\n",
    "def run(Model):\n",
    "    kin = CenterOfMass(13 * TeV, \"p\", \"p\")\n",
    "    phi_pid = lp.phi_1020.pdgid\n",
    "\n",
    "    m = Model(kin, seed=1)\n",
    "\n",
    "    task_id = None\n",
    "    requested = 1e6\n",
    "    phis = []\n",
    "    n_events = 0\n",
    "    with tqdm(total=requested, desc=m.pyname) as bar:\n",
    "        while True:\n",
    "            for event in m(100):\n",
    "                n_events += 1\n",
    "                n_phi = np.sum(event.pid == phi_pid)\n",
    "                if n_phi > 0:\n",
    "                    event = event[2:]  # cut beam particles\n",
    "                    ma = event.pid == phi_pid\n",
    "                    imot = event.parents[:, 0] - 1\n",
    "                    prompt = np.array([is_prompt(idx, event.pid, imot) for idx in np.arange(len(event))[ma]])\n",
    "                    phis.append((\n",
    "                        event.eta[ma],\n",
    "                        event.pt[ma] / MeV,\n",
    "                        prompt\n",
    "                    ))\n",
    "                    bar.update(n_phi)\n",
    "                    if len(phis) >= requested:\n",
    "                        return phis, n_events\n",
    "\n",
    "with joblib.Parallel(n_jobs=10, batch_size=1) as pool:\n",
    "    results = pool(run(M) for M in Models)\n",
    "\n",
    "results = {M.pyname: r for (M, r) in zip(Models, results)}"
   ]
  },
  {
   "cell_type": "code",
   "execution_count": null,
   "metadata": {},
   "outputs": [],
   "source": [
    "\n",
    "with uproot.recreate(\"phi.root\") as f:\n",
    "    for k, (v, nev) in results.items():\n",
    "        eta = np.concatenate([vi[0] for vi in v])\n",
    "        pt = np.concatenate([vi[1] for vi in v])\n",
    "        prompt = np.concatenate([vi[2] for vi in v])\n",
    "        f[k] = {\"eta\": eta, \"pt\": pt, \"prompt\": prompt}\n"
   ]
  }
 ],
 "metadata": {
  "kernelspec": {
   "display_name": "venv",
   "language": "python",
   "name": "python3"
  },
  "language_info": {
   "codemirror_mode": {
    "name": "ipython",
    "version": 3
   },
   "file_extension": ".py",
   "mimetype": "text/x-python",
   "name": "python",
   "nbconvert_exporter": "python",
   "pygments_lexer": "ipython3",
   "version": "3.10.8"
  },
  "orig_nbformat": 4,
  "vscode": {
   "interpreter": {
    "hash": "0a508c08cd2086ba96582a458cfad941fad2afc105364c7aa1495a852be559b7"
   }
  }
 },
 "nbformat": 4,
 "nbformat_minor": 2
}

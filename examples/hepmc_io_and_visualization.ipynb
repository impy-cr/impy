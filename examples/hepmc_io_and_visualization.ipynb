{
 "cells": [
  {
   "attachments": {},
   "cell_type": "markdown",
   "metadata": {},
   "source": [
    "# HepMC3 Interface: IO and visualization\n",
    "\n",
    "chromo uses the pyhepmc library for event IO and visualization. Visualization of the event is useful to understand the particle history. Not all generators produce a history. Here we generate an event with Pythia6 which has full history.\n",
    "\n",
    "For the visualization to work, the optional package graphviz is required."
   ]
  },
  {
   "cell_type": "code",
   "execution_count": null,
   "metadata": {},
   "outputs": [],
   "source": [
    "import chromo.models as im\n",
    "from chromo.kinematics import CenterOfMass\n",
    "from chromo.constants import GeV\n",
    "from chromo.util import pdg2name\n",
    "from particle import literals as lp, Particle"
   ]
  },
  {
   "cell_type": "code",
   "execution_count": null,
   "metadata": {},
   "outputs": [],
   "source": [
    "evt_kin = CenterOfMass(15 * GeV, \"p\", \"p\")\n",
    "\n",
    "model = im.Pythia6(evt_kin, seed=1)\n",
    "\n",
    "# generate one event\n",
    "for event in model(1):\n",
    "    pass"
   ]
  },
  {
   "attachments": {},
   "cell_type": "markdown",
   "metadata": {},
   "source": [
    "To get a look at the event, we can `print` it, but the output is a bit confusing. chromo gives access to the Fortran HepEvt record, which is a very compact and efficient format, but it is not easy to see what is going on."
   ]
  },
  {
   "cell_type": "code",
   "execution_count": null,
   "metadata": {},
   "outputs": [],
   "source": [
    "print(event)"
   ]
  },
  {
   "attachments": {},
   "cell_type": "markdown",
   "metadata": {},
   "source": [
    "To get a better visualization, we can convert the event into a directed graph. The HepMC3 library provides such a graph structure. We convert the chromo event to HepMC3 format."
   ]
  },
  {
   "cell_type": "code",
   "execution_count": null,
   "metadata": {},
   "outputs": [],
   "source": [
    "hev = event.to_hepmc3()"
   ]
  },
  {
   "cell_type": "markdown",
   "metadata": {},
   "source": [
    "The HepMC3 event consists of particles and vertices. You can traverse the graph up and down to follow all ancestors of a final state particle."
   ]
  },
  {
   "cell_type": "code",
   "execution_count": null,
   "metadata": {},
   "outputs": [],
   "source": [
    "# get one final state particle\n",
    "for p in hev.particles:\n",
    "    if p.status == 1: # final state\n",
    "        break\n",
    "\n",
    "# print particle and its parents\n",
    "while True:\n",
    "    print(f\"{pdg2name(p.pid)} E={p.momentum.e / GeV:.3g} status={p.status}\")\n",
    "    if not p.production_vertex.particles_in:\n",
    "        break\n",
    "    p = p.production_vertex.particles_in[0]\n",
    "    "
   ]
  },
  {
   "cell_type": "markdown",
   "metadata": {},
   "source": [
    "If you have `graphviz` installed, the HepMC3 event will be visualized directly in the notebook."
   ]
  },
  {
   "cell_type": "code",
   "execution_count": null,
   "metadata": {},
   "outputs": [],
   "source": [
    "hev"
   ]
  },
  {
   "attachments": {},
   "cell_type": "markdown",
   "metadata": {},
   "source": [
    "Try hovering the mouse over the lines and nodes to get extra tooltip information about the particles and vertices.\n",
    "\n",
    "If you have all these extra packages installed, you can also display the original chromo event in this way (it is converted automatically then to generate this visualization)."
   ]
  },
  {
   "cell_type": "code",
   "execution_count": null,
   "metadata": {},
   "outputs": [],
   "source": [
    "event"
   ]
  },
  {
   "cell_type": "markdown",
   "metadata": {},
   "source": [
    "This scalable SVG image is generated with the function `pyhepmc.view.to_dot`, which produces a `DiGraph` object. It is possible to manipulate this object, for example, to change the size of the image. For details, see the `graphviz` docs."
   ]
  },
  {
   "cell_type": "code",
   "execution_count": null,
   "metadata": {},
   "outputs": [],
   "source": [
    "from pyhepmc.view import to_dot"
   ]
  },
  {
   "cell_type": "code",
   "execution_count": null,
   "metadata": {},
   "outputs": [],
   "source": [
    "d = to_dot(hev)\n",
    "d.graph_attr[\"size\"] = \"10,10\"\n",
    "d"
   ]
  },
  {
   "attachments": {},
   "cell_type": "markdown",
   "metadata": {},
   "source": [
    "Also important is the ability to save events and to pass them to other HEP software. The HepMC format is the common language in particle physics, which all tools understand. `pyhepmc` offers a Pythonic way to read/write events with an `open` function.\n",
    "\n",
    "chromo events can be written to disk directly without manual conversion to HepMC3 format, because `pyhepmc` respects the following protocol. If a foreign event object has a method called `to_hepmc3`, it is called to convert the event automatically before writing."
   ]
  },
  {
   "cell_type": "code",
   "execution_count": null,
   "metadata": {},
   "outputs": [],
   "source": [
    "import pyhepmc\n",
    "\n",
    "with pyhepmc.open(\"pythia6.dat\", \"w\") as f:\n",
    "    f.write(event)  # both event and hev work here"
   ]
  },
  {
   "cell_type": "markdown",
   "metadata": {},
   "source": [
    "The format is human-readable ASCII."
   ]
  },
  {
   "cell_type": "code",
   "execution_count": null,
   "metadata": {},
   "outputs": [],
   "source": [
    "with open(\"pythia6.dat\") as f:\n",
    "    print(f.read())"
   ]
  },
  {
   "cell_type": "markdown",
   "metadata": {},
   "source": [
    "We can also handle incomplete records, like the one from SIBYLL-2.1."
   ]
  },
  {
   "cell_type": "code",
   "execution_count": null,
   "metadata": {},
   "outputs": [],
   "source": [
    "evt_kin = CenterOfMass(20 * GeV, \"p\", \"p\")\n",
    "\n",
    "model = im.Sibyll21(evt_kin, seed=1)\n",
    "\n",
    "# generate one event\n",
    "for event2 in model(1):\n",
    "    pass"
   ]
  },
  {
   "cell_type": "markdown",
   "metadata": {},
   "source": [
    "Sibyll-2.1 does not include the beam particles in the output, so there is no common production vertex for all particles."
   ]
  },
  {
   "cell_type": "code",
   "execution_count": null,
   "metadata": {},
   "outputs": [],
   "source": [
    "hev2 = event2.to_hepmc3()\n",
    "hev2"
   ]
  },
  {
   "cell_type": "markdown",
   "metadata": {},
   "source": [
    "The serialized output is more compact. For SIBYLL-2.1, the vertex positions are all zero, and the HepMC3 format then optimizes the vertex entries away."
   ]
  },
  {
   "cell_type": "code",
   "execution_count": null,
   "metadata": {},
   "outputs": [],
   "source": [
    "with pyhepmc.open(\"sibyll21.dat\", \"w\") as f:\n",
    "    f.write(event2)\n",
    "    \n",
    "with open(\"sibyll21.dat\") as f:\n",
    "    print(f.read())"
   ]
  }
 ],
 "metadata": {
  "kernelspec": {
   "display_name": "venv",
   "language": "python",
   "name": "python3"
  },
  "language_info": {
   "codemirror_mode": {
    "name": "ipython",
    "version": 3
   },
   "file_extension": ".py",
   "mimetype": "text/x-python",
   "name": "python",
   "nbconvert_exporter": "python",
   "pygments_lexer": "ipython3",
   "version": "3.10.8 (main, Oct 13 2022, 09:48:40) [Clang 14.0.0 (clang-1400.0.29.102)]"
  },
  "orig_nbformat": 4,
  "vscode": {
   "interpreter": {
    "hash": "0a508c08cd2086ba96582a458cfad941fad2afc105364c7aa1495a852be559b7"
   }
  }
 },
 "nbformat": 4,
 "nbformat_minor": 2
}

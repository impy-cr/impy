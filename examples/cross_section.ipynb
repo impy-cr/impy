{
 "cells": [
  {
   "cell_type": "code",
   "execution_count": null,
   "metadata": {},
   "outputs": [],
   "source": [
    "from chromo import models as im\n",
    "from chromo.kinematics import CenterOfMass\n",
    "from chromo.constants import GeV\n",
    "from chromo.util import get_all_models\n",
    "\n",
    "# from util import run_in_separate_process\n",
    "from particle import literals as lp\n",
    "import numpy as np\n",
    "import joblib\n"
   ]
  },
  {
   "cell_type": "code",
   "execution_count": null,
   "metadata": {},
   "outputs": [],
   "source": [
    "energies = np.geomspace(10, 100000, 20) * GeV\n",
    "\n",
    "\n",
    "@joblib.delayed\n",
    "def run(Model):\n",
    "    values = []\n",
    "    m = Model(CenterOfMass(energies[-1], \"p\", \"p\"))\n",
    "    for en in energies:\n",
    "        kin = CenterOfMass(en, \"p\", \"p\")\n",
    "        c = m.cross_section(kin)\n",
    "        values.append(c)\n",
    "    return values\n",
    "\n",
    "\n",
    "Models = [M for M in get_all_models() if lp.proton.pdgid in M.projectiles]\n",
    "cross_sections = {}\n",
    "out = joblib.Parallel(len(Models), batch_size=1)(run(Model) for Model in Models)\n",
    "for Model, o in zip(Models, out):\n",
    "    cross_sections[Model.pyname] = o\n"
   ]
  },
  {
   "cell_type": "code",
   "execution_count": null,
   "metadata": {},
   "outputs": [],
   "source": [
    "from matplotlib import pyplot as plt\n",
    "import dataclasses\n",
    "\n",
    "reference_model = \"EposLHC\"\n",
    "\n",
    "for model in cross_sections:\n",
    "    if model == reference_model:\n",
    "        continue\n",
    "    plt.figure()\n",
    "    kinds = \"total\", \"inelastic\", \"diffractive\"\n",
    "    for k, model2 in enumerate((reference_model, model)):\n",
    "        data = cross_sections[model2]\n",
    "        for i, kind in enumerate(kinds):\n",
    "            if kind == \"diffractive\":\n",
    "                val = [\n",
    "                    sum(\n",
    "                        (0 if np.isnan(v) else v)\n",
    "                        for k, v in dataclasses.asdict(d).items()\n",
    "                        if \"diffractive\" in k\n",
    "                    )\n",
    "                    for d in data\n",
    "                ]\n",
    "            else:\n",
    "                val = [getattr(d, kind) for d in data]\n",
    "\n",
    "            if np.any(val != 0):\n",
    "                plt.plot(\n",
    "                    energies / GeV,\n",
    "                    val,\n",
    "                    label=model2 + \" \" + kind,\n",
    "                    ls=[\"-\", \"--\", \":\"][i],\n",
    "                    color=[\"k\", \"C1\"][k],\n",
    "                    zorder=1 + k,\n",
    "                )\n",
    "    plt.semilogx()\n",
    "    plt.legend(frameon=False, ncol=2, fontsize=\"small\", title=\"p+p\")\n",
    "    plt.xlabel(\"$E_\\\\mathrm{cm}$ / GeV\")\n",
    "    "
   ]
  },
  {
   "cell_type": "code",
   "execution_count": null,
   "metadata": {},
   "outputs": [],
   "source": []
  }
 ],
 "metadata": {
  "kernelspec": {
   "display_name": "Python 3",
   "language": "python",
   "name": "python3"
  },
  "language_info": {
   "codemirror_mode": {
    "name": "ipython",
    "version": 3
   },
   "file_extension": ".py",
   "mimetype": "text/x-python",
   "name": "python",
   "nbconvert_exporter": "python",
   "pygments_lexer": "ipython3",
   "version": "3.11.1"
  },
  "orig_nbformat": 4,
  "vscode": {
   "interpreter": {
    "hash": "5c7b89af1651d0b8571dde13640ecdccf7d5a6204171d6ab33e7c296e100e08a"
   }
  }
 },
 "nbformat": 4,
 "nbformat_minor": 2
}
